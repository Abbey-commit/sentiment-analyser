{
 "cells": [
  {
   "cell_type": "markdown",
   "metadata": {},
   "source": [
    "# Autoreload"
   ]
  },
  {
   "cell_type": "code",
   "execution_count": 37,
   "metadata": {},
   "outputs": [],
   "source": [
    "%reload_ext autoreload\n",
    "%autoreload 2"
   ]
  },
  {
   "cell_type": "markdown",
   "metadata": {},
   "source": [
    "# Load libraries and packages"
   ]
  },
  {
   "cell_type": "code",
   "execution_count": 38,
   "metadata": {},
   "outputs": [],
   "source": [
    "import joblib\n",
    "\n",
    "import numpy as np\n",
    "import pandas as pd\n",
    "\n",
    "import matplotlib.pyplot as plt\n",
    "\n",
    "from sklearn.pipeline import Pipeline\n",
    "from sklearn.naive_bayes import MultinomialNB\n",
    "from sklearn.model_selection import StratifiedKFold\n",
    "from sklearn.model_selection import train_test_split\n",
    "from sklearn.metrics import classification_report\n",
    "\n",
    "from sklearn.feature_extraction.text import CountVectorizer, TfidfVectorizer"
   ]
  },
  {
   "cell_type": "markdown",
   "metadata": {},
   "source": [
    "# Utility function"
   ]
  },
  {
   "cell_type": "code",
   "execution_count": 39,
   "metadata": {},
   "outputs": [],
   "source": [
    "from utils import clean_text, DenseTransformer"
   ]
  },
  {
   "cell_type": "markdown",
   "metadata": {},
   "source": [
    "# Load data"
   ]
  },
  {
   "cell_type": "code",
   "execution_count": 40,
   "metadata": {},
   "outputs": [
    {
     "data": {
      "text/html": [
       "<div>\n",
       "<style scoped>\n",
       "    .dataframe tbody tr th:only-of-type {\n",
       "        vertical-align: middle;\n",
       "    }\n",
       "\n",
       "    .dataframe tbody tr th {\n",
       "        vertical-align: top;\n",
       "    }\n",
       "\n",
       "    .dataframe thead th {\n",
       "        text-align: right;\n",
       "    }\n",
       "</style>\n",
       "<table border=\"1\" class=\"dataframe\">\n",
       "  <thead>\n",
       "    <tr style=\"text-align: right;\">\n",
       "      <th></th>\n",
       "      <th>reviews</th>\n",
       "      <th>rating</th>\n",
       "    </tr>\n",
       "  </thead>\n",
       "  <tbody>\n",
       "    <tr>\n",
       "      <th>0</th>\n",
       "      <td>A very, very, very slow-moving, aimless movie ...</td>\n",
       "      <td>0</td>\n",
       "    </tr>\n",
       "    <tr>\n",
       "      <th>1</th>\n",
       "      <td>Not sure who was more lost - the flat characte...</td>\n",
       "      <td>0</td>\n",
       "    </tr>\n",
       "    <tr>\n",
       "      <th>2</th>\n",
       "      <td>Attempting artiness with black &amp; white and cle...</td>\n",
       "      <td>0</td>\n",
       "    </tr>\n",
       "    <tr>\n",
       "      <th>3</th>\n",
       "      <td>Very little music or anything to speak of.</td>\n",
       "      <td>0</td>\n",
       "    </tr>\n",
       "    <tr>\n",
       "      <th>4</th>\n",
       "      <td>The best scene in the movie was when Gerardo i...</td>\n",
       "      <td>1</td>\n",
       "    </tr>\n",
       "  </tbody>\n",
       "</table>\n",
       "</div>"
      ],
      "text/plain": [
       "                                             reviews  rating\n",
       "0  A very, very, very slow-moving, aimless movie ...       0\n",
       "1  Not sure who was more lost - the flat characte...       0\n",
       "2  Attempting artiness with black & white and cle...       0\n",
       "3       Very little music or anything to speak of.         0\n",
       "4  The best scene in the movie was when Gerardo i...       1"
      ]
     },
     "execution_count": 40,
     "metadata": {},
     "output_type": "execute_result"
    }
   ],
   "source": [
    "\n",
    "dt = pd.read_csv('imdb_labelled.txt', delimiter = '\\t', names=[\"reviews\", \"rating\"])\n",
    "dt.head(5)"
   ]
  },
  {
   "cell_type": "markdown",
   "metadata": {},
   "source": [
    "# Create labels"
   ]
  },
  {
   "cell_type": "code",
   "execution_count": 41,
   "metadata": {},
   "outputs": [
    {
     "data": {
      "text/html": [
       "<div>\n",
       "<style scoped>\n",
       "    .dataframe tbody tr th:only-of-type {\n",
       "        vertical-align: middle;\n",
       "    }\n",
       "\n",
       "    .dataframe tbody tr th {\n",
       "        vertical-align: top;\n",
       "    }\n",
       "\n",
       "    .dataframe thead th {\n",
       "        text-align: right;\n",
       "    }\n",
       "</style>\n",
       "<table border=\"1\" class=\"dataframe\">\n",
       "  <thead>\n",
       "    <tr style=\"text-align: right;\">\n",
       "      <th></th>\n",
       "      <th>reviews</th>\n",
       "      <th>rating</th>\n",
       "      <th>labels</th>\n",
       "    </tr>\n",
       "  </thead>\n",
       "  <tbody>\n",
       "    <tr>\n",
       "      <th>0</th>\n",
       "      <td>A very, very, very slow-moving, aimless movie ...</td>\n",
       "      <td>0</td>\n",
       "      <td>Negative</td>\n",
       "    </tr>\n",
       "    <tr>\n",
       "      <th>1</th>\n",
       "      <td>Not sure who was more lost - the flat characte...</td>\n",
       "      <td>0</td>\n",
       "      <td>Negative</td>\n",
       "    </tr>\n",
       "    <tr>\n",
       "      <th>2</th>\n",
       "      <td>Attempting artiness with black &amp; white and cle...</td>\n",
       "      <td>0</td>\n",
       "      <td>Negative</td>\n",
       "    </tr>\n",
       "    <tr>\n",
       "      <th>3</th>\n",
       "      <td>Very little music or anything to speak of.</td>\n",
       "      <td>0</td>\n",
       "      <td>Negative</td>\n",
       "    </tr>\n",
       "    <tr>\n",
       "      <th>4</th>\n",
       "      <td>The best scene in the movie was when Gerardo i...</td>\n",
       "      <td>1</td>\n",
       "      <td>Positive</td>\n",
       "    </tr>\n",
       "  </tbody>\n",
       "</table>\n",
       "</div>"
      ],
      "text/plain": [
       "                                             reviews  rating    labels\n",
       "0  A very, very, very slow-moving, aimless movie ...       0  Negative\n",
       "1  Not sure who was more lost - the flat characte...       0  Negative\n",
       "2  Attempting artiness with black & white and cle...       0  Negative\n",
       "3       Very little music or anything to speak of.         0  Negative\n",
       "4  The best scene in the movie was when Gerardo i...       1  Positive"
      ]
     },
     "execution_count": 41,
     "metadata": {},
     "output_type": "execute_result"
    }
   ],
   "source": [
    "\n",
    "dt['labels'] = movie[\"rating\"].apply(lambda x: \"Positive\" if x else \"Negative\")\n",
    "dt.head()"
   ]
  },
  {
   "cell_type": "markdown",
   "metadata": {},
   "source": [
    "# Missing values"
   ]
  },
  {
   "cell_type": "code",
   "execution_count": 42,
   "metadata": {},
   "outputs": [
    {
     "data": {
      "text/plain": [
       "reviews    0\n",
       "rating     0\n",
       "labels     0\n",
       "dtype: int64"
      ]
     },
     "execution_count": 42,
     "metadata": {},
     "output_type": "execute_result"
    }
   ],
   "source": [
    "dt.isnull().sum()"
   ]
  },
  {
   "cell_type": "markdown",
   "metadata": {},
   "source": [
    "# Create length of each document"
   ]
  },
  {
   "cell_type": "code",
   "execution_count": 43,
   "metadata": {},
   "outputs": [
    {
     "data": {
      "text/html": [
       "<div>\n",
       "<style scoped>\n",
       "    .dataframe tbody tr th:only-of-type {\n",
       "        vertical-align: middle;\n",
       "    }\n",
       "\n",
       "    .dataframe tbody tr th {\n",
       "        vertical-align: top;\n",
       "    }\n",
       "\n",
       "    .dataframe thead th {\n",
       "        text-align: right;\n",
       "    }\n",
       "</style>\n",
       "<table border=\"1\" class=\"dataframe\">\n",
       "  <thead>\n",
       "    <tr style=\"text-align: right;\">\n",
       "      <th></th>\n",
       "      <th>reviews</th>\n",
       "      <th>rating</th>\n",
       "      <th>labels</th>\n",
       "      <th>length</th>\n",
       "    </tr>\n",
       "  </thead>\n",
       "  <tbody>\n",
       "    <tr>\n",
       "      <th>0</th>\n",
       "      <td>A very, very, very slow-moving, aimless movie ...</td>\n",
       "      <td>0</td>\n",
       "      <td>Negative</td>\n",
       "      <td>15</td>\n",
       "    </tr>\n",
       "    <tr>\n",
       "      <th>1</th>\n",
       "      <td>Not sure who was more lost - the flat characte...</td>\n",
       "      <td>0</td>\n",
       "      <td>Negative</td>\n",
       "      <td>21</td>\n",
       "    </tr>\n",
       "    <tr>\n",
       "      <th>2</th>\n",
       "      <td>Attempting artiness with black &amp; white and cle...</td>\n",
       "      <td>0</td>\n",
       "      <td>Negative</td>\n",
       "      <td>33</td>\n",
       "    </tr>\n",
       "    <tr>\n",
       "      <th>3</th>\n",
       "      <td>Very little music or anything to speak of.</td>\n",
       "      <td>0</td>\n",
       "      <td>Negative</td>\n",
       "      <td>10</td>\n",
       "    </tr>\n",
       "    <tr>\n",
       "      <th>4</th>\n",
       "      <td>The best scene in the movie was when Gerardo i...</td>\n",
       "      <td>1</td>\n",
       "      <td>Positive</td>\n",
       "      <td>23</td>\n",
       "    </tr>\n",
       "  </tbody>\n",
       "</table>\n",
       "</div>"
      ],
      "text/plain": [
       "                                             reviews  rating    labels  length\n",
       "0  A very, very, very slow-moving, aimless movie ...       0  Negative      15\n",
       "1  Not sure who was more lost - the flat characte...       0  Negative      21\n",
       "2  Attempting artiness with black & white and cle...       0  Negative      33\n",
       "3       Very little music or anything to speak of.         0  Negative      10\n",
       "4  The best scene in the movie was when Gerardo i...       1  Positive      23"
      ]
     },
     "execution_count": 43,
     "metadata": {},
     "output_type": "execute_result"
    }
   ],
   "source": [
    "dt['length'] = movie['reviews'].apply(lambda x: len(str(x).split(' ')))\n",
    "dt.head()"
   ]
  },
  {
   "cell_type": "code",
   "execution_count": 44,
   "metadata": {},
   "outputs": [
    {
     "data": {
      "text/plain": [
       "array([  15,   21,   33,   10,   23,   22,    5,   17,   12,    8,   13,\n",
       "          6,   18,   25,   19,  868,   14,   16,    9,    7,   26,   35,\n",
       "         11,    4,   27,   28,    3,   20,   37,   24,   36,  201, 1393,\n",
       "         49,   30,  306,   31,   32,   44,   56,   45,   34,   38,   64,\n",
       "         58,   40,   47,   29,   73,   41,   39,   55,   53,   42,  800],\n",
       "      dtype=int64)"
      ]
     },
     "execution_count": 44,
     "metadata": {},
     "output_type": "execute_result"
    }
   ],
   "source": [
    "dt['length'].unique()\n"
   ]
  },
  {
   "cell_type": "markdown",
   "metadata": {},
   "source": [
    "# Label frequency"
   ]
  },
  {
   "cell_type": "code",
   "execution_count": 45,
   "metadata": {},
   "outputs": [
    {
     "name": "stdout",
     "output_type": "stream",
     "text": [
      "1    386\n",
      "0    362\n",
      "Name: rating, dtype: int64\n",
      "\n"
     ]
    },
    {
     "data": {
      "image/png": "[encoded data removed]",
      "text/plain": [
       "<Figure size 432x288 with 1 Axes>"
      ]
     },
     "metadata": {
      "needs_background": "light"
     },
     "output_type": "display_data"
    }
   ],
   "source": [
    "\n",
    "Index = [1, 0]\n",
    "\n",
    "print(dt[\"rating\"].value_counts())\n",
    "print()\n",
    "\n",
    "barlist = plt.bar(Index, dt[\"labels\"].value_counts())\n",
    "\n",
    "plt.title(\"Frequency of Labels\")\n",
    "plt.xticks(Index, ['positive', 'negative'])\n",
    "plt.ylabel('Number of Reviews')\n",
    "plt.xlabel('Sentiment expressed in Reviews')\n",
    "\n",
    "barlist[Index[1]].set_color('green')\n",
    "barlist[Index[0]].set_color('red')\n",
    "plt.show()"
   ]
  },
  {
   "cell_type": "markdown",
   "metadata": {},
   "source": [
    "# Since we can observed from the above graph that the data is balance there will be no need to before SMOOT on it to balance the data"
   ]
  },
  {
   "cell_type": "code",
   "execution_count": 46,
   "metadata": {},
   "outputs": [
    {
     "data": {
      "text/plain": [
       "<BarContainer object of 55 artists>"
      ]
     },
     "execution_count": 46,
     "metadata": {},
     "output_type": "execute_result"
    },
    {
     "data": {
      "image/png": "[encoded data removed]",
      "text/plain": [
       "<Figure size 432x288 with 1 Axes>"
      ]
     },
     "metadata": {
      "needs_background": "light"
     },
     "output_type": "display_data"
    }
   ],
   "source": [
    "unique_lengths = dt['length'].unique()\n",
    "plt.bar(np.arange(len(unique_lengths)), unique_lengths)"
   ]
  },
  {
   "cell_type": "markdown",
   "metadata": {},
   "source": [
    "# Apply clean text into the data for cleansing"
   ]
  },
  {
   "cell_type": "code",
   "execution_count": 47,
   "metadata": {},
   "outputs": [
    {
     "data": {
      "text/html": [
       "<div>\n",
       "<style scoped>\n",
       "    .dataframe tbody tr th:only-of-type {\n",
       "        vertical-align: middle;\n",
       "    }\n",
       "\n",
       "    .dataframe tbody tr th {\n",
       "        vertical-align: top;\n",
       "    }\n",
       "\n",
       "    .dataframe thead th {\n",
       "        text-align: right;\n",
       "    }\n",
       "</style>\n",
       "<table border=\"1\" class=\"dataframe\">\n",
       "  <thead>\n",
       "    <tr style=\"text-align: right;\">\n",
       "      <th></th>\n",
       "      <th>reviews</th>\n",
       "      <th>rating</th>\n",
       "      <th>labels</th>\n",
       "      <th>length</th>\n",
       "      <th>clean review</th>\n",
       "    </tr>\n",
       "  </thead>\n",
       "  <tbody>\n",
       "    <tr>\n",
       "      <th>0</th>\n",
       "      <td>A very, very, very slow-moving, aimless movie ...</td>\n",
       "      <td>0</td>\n",
       "      <td>Negative</td>\n",
       "      <td>15</td>\n",
       "      <td>a very very very slowmoving aimless movie abou...</td>\n",
       "    </tr>\n",
       "    <tr>\n",
       "      <th>1</th>\n",
       "      <td>Not sure who was more lost - the flat characte...</td>\n",
       "      <td>0</td>\n",
       "      <td>Negative</td>\n",
       "      <td>21</td>\n",
       "      <td>not sure who wa more lost the flat character o...</td>\n",
       "    </tr>\n",
       "    <tr>\n",
       "      <th>2</th>\n",
       "      <td>Attempting artiness with black &amp; white and cle...</td>\n",
       "      <td>0</td>\n",
       "      <td>Negative</td>\n",
       "      <td>33</td>\n",
       "      <td>attempting artiness with black white and cleve...</td>\n",
       "    </tr>\n",
       "    <tr>\n",
       "      <th>3</th>\n",
       "      <td>Very little music or anything to speak of.</td>\n",
       "      <td>0</td>\n",
       "      <td>Negative</td>\n",
       "      <td>10</td>\n",
       "      <td>very little music or anything to speak of</td>\n",
       "    </tr>\n",
       "    <tr>\n",
       "      <th>4</th>\n",
       "      <td>The best scene in the movie was when Gerardo i...</td>\n",
       "      <td>1</td>\n",
       "      <td>Positive</td>\n",
       "      <td>23</td>\n",
       "      <td>the best scene in the movie wa when gerardo is...</td>\n",
       "    </tr>\n",
       "  </tbody>\n",
       "</table>\n",
       "</div>"
      ],
      "text/plain": [
       "                                             reviews  rating    labels  \\\n",
       "0  A very, very, very slow-moving, aimless movie ...       0  Negative   \n",
       "1  Not sure who was more lost - the flat characte...       0  Negative   \n",
       "2  Attempting artiness with black & white and cle...       0  Negative   \n",
       "3       Very little music or anything to speak of.         0  Negative   \n",
       "4  The best scene in the movie was when Gerardo i...       1  Positive   \n",
       "\n",
       "   length                                       clean review  \n",
       "0      15  a very very very slowmoving aimless movie abou...  \n",
       "1      21  not sure who wa more lost the flat character o...  \n",
       "2      33  attempting artiness with black white and cleve...  \n",
       "3      10          very little music or anything to speak of  \n",
       "4      23  the best scene in the movie wa when gerardo is...  "
      ]
     },
     "execution_count": 47,
     "metadata": {},
     "output_type": "execute_result"
    }
   ],
   "source": [
    "\n",
    "dt['clean review'] = dt['reviews'].apply(clean_text)\n",
    "dt.head()"
   ]
  },
  {
   "cell_type": "code",
   "execution_count": 48,
   "metadata": {},
   "outputs": [],
   "source": [
    "X = dt['reviews']\n",
    "y = dt['rating']"
   ]
  },
  {
   "cell_type": "markdown",
   "metadata": {},
   "source": [
    "# Test preprocessing\n",
    "\n",
    "Splitting data set into train andtest 60%, 40% respectively"
   ]
  },
  {
   "cell_type": "code",
   "execution_count": 49,
   "metadata": {},
   "outputs": [],
   "source": [
    "X_train, X_test, y_train, y_test = train_test_split(X,y, test_size = .40, random_state = 60)"
   ]
  },
  {
   "cell_type": "code",
   "execution_count": 50,
   "metadata": {},
   "outputs": [
    {
     "name": "stdout",
     "output_type": "stream",
     "text": [
      " train shape of output:(448,), output: (300,)\n",
      " test of shape of(300,), output:(300,)\n"
     ]
    }
   ],
   "source": [
    "print(f' train shape of output:{X_train.shape}, output: {y_test.shape}')\n",
    "print(f' test of shape of{X_test.shape}, output:{y_test.shape}' )"
   ]
  },
  {
   "cell_type": "markdown",
   "metadata": {},
   "source": [
    "# Train and preprocess text using count vectorizer"
   ]
  },
  {
   "cell_type": "code",
   "execution_count": 51,
   "metadata": {},
   "outputs": [],
   "source": [
    "cv_nb = Pipeline([\n",
    "    ('Bag_of_words', CountVectorizer(stop_words = 'english')), \n",
    "    ('classifier', MultinomialNB()),\n",
    "])"
   ]
  },
  {
   "cell_type": "code",
   "execution_count": 52,
   "metadata": {},
   "outputs": [
    {
     "data": {
      "text/plain": [
       "Pipeline(steps=[('Bag_of_words', CountVectorizer(stop_words='english')),\n",
       "                ('classifier', MultinomialNB())])"
      ]
     },
     "execution_count": 52,
     "metadata": {},
     "output_type": "execute_result"
    }
   ],
   "source": [
    "cv_nb.fit(X_train, y_train)\n"
   ]
  },
  {
   "cell_type": "code",
   "execution_count": 53,
   "metadata": {},
   "outputs": [
    {
     "data": {
      "text/plain": [
       "['models/multinomial_naive_bayes_with_count_vectorizer.joblib']"
      ]
     },
     "execution_count": 53,
     "metadata": {},
     "output_type": "execute_result"
    }
   ],
   "source": [
    "joblib.dump(cv_nb, \"models/multinomial_naive_bayes_with_count_vectorizer.joblib\")\n"
   ]
  },
  {
   "cell_type": "code",
   "execution_count": 54,
   "metadata": {},
   "outputs": [],
   "source": [
    "model_pred = cv_nb.predict(X_test)\n"
   ]
  },
  {
   "cell_type": "code",
   "execution_count": 55,
   "metadata": {},
   "outputs": [
    {
     "name": "stdout",
     "output_type": "stream",
     "text": [
      "              precision    recall  f1-score   support\n",
      "\n",
      "           0       0.81      0.66      0.73       155\n",
      "           1       0.70      0.83      0.76       145\n",
      "\n",
      "    accuracy                           0.75       300\n",
      "   macro avg       0.76      0.75      0.75       300\n",
      "weighted avg       0.76      0.75      0.75       300\n",
      "\n"
     ]
    }
   ],
   "source": [
    "print(classification_report(y_test, model_pred))\n"
   ]
  },
  {
   "cell_type": "markdown",
   "metadata": {},
   "source": [
    "# Running Cross validation with Countvectorizer and MultinomialNB"
   ]
  },
  {
   "cell_type": "code",
   "execution_count": 56,
   "metadata": {},
   "outputs": [
    {
     "name": "stdout",
     "output_type": "stream",
     "text": [
      "list of first 10 possible accurancy:\n",
      "   1. 0.7467\n",
      "   2. 0.7667\n",
      "   3. 0.7067\n",
      "   4. 0.7785\n",
      "   5. 0.7450\n",
      "\n",
      "Metrics that were obtained from this model:\n",
      " Maximum Accurancy: 77.85%\n",
      " Minimum Accurancy: 70.67%\n",
      " Mean Accurancy: 7.5e+01%\n",
      " Std accurancy: 2.45%\n",
      "[0.7466666666666667, 0.7666666666666667, 0.7066666666666667, 0.7785234899328859, 0.7449664429530202]\n"
     ]
    }
   ],
   "source": [
    "accurancy = []\n",
    "stratifiedKf_predict = StratifiedKFold(n_splits=5, shuffle=True, random_state=100)\n",
    "stratifiedKf_predict.get_n_splits(X,y)\n",
    "\n",
    "for train_index, test_index in stratifiedKf_predict.split(X,y):\n",
    "   \n",
    "    X1_train, X1_test = X.iloc[train_index], X.iloc[test_index]\n",
    "    y1_train, y1_test = y.iloc[train_index], y.iloc[test_index]\n",
    "  \n",
    "    cv_nb.fit(X1_train, y1_train)\n",
    "    result = cv_nb.score(X1_test, y1_test)\n",
    "    accurancy.append(result)\n",
    "\n",
    "accuracy = np.array(accurancy)\n",
    "\n",
    "#Print the output\n",
    "print('list of first 10 possible accurancy:')\n",
    "\n",
    "for index, acc in enumerate(accuracy[:10]):\n",
    "    print(f' {index+1:3d}. {acc:.4f}')\n",
    "\n",
    "\n",
    "print('\\nMetrics that were obtained from this model:')\n",
    "print(f' Maximum Accurancy: {accuracy.max()*100:.2f}%')\n",
    "print(f' Minimum Accurancy: {accuracy.min()*100:.2f}%')\n",
    "print(f' Mean Accurancy: {accuracy.mean()*100:.2}%')\n",
    "print(f' Std accurancy: {accuracy.std()*100:.2f}%')\n",
    "print(accurancy)"
   ]
  },
  {
   "cell_type": "markdown",
   "metadata": {},
   "source": [
    "# Training with count Vectorizer and Multinomial NB"
   ]
  },
  {
   "cell_type": "code",
   "execution_count": 57,
   "metadata": {},
   "outputs": [],
   "source": [
    "tfidf_nb = Pipeline([\n",
    "    ('Term_freq', TfidfVectorizer()),\n",
    "    ('classifier', MultinomialNB()),\n",
    "])"
   ]
  },
  {
   "cell_type": "code",
   "execution_count": 59,
   "metadata": {},
   "outputs": [
    {
     "data": {
      "text/plain": [
       "Pipeline(steps=[('Term_freq', TfidfVectorizer()),\n",
       "                ('classifier', MultinomialNB())])"
      ]
     },
     "execution_count": 59,
     "metadata": {},
     "output_type": "execute_result"
    }
   ],
   "source": [
    "tfidf_nb.fit(X_train, y_train)"
   ]
  },
  {
   "cell_type": "code",
   "execution_count": 60,
   "metadata": {},
   "outputs": [
    {
     "data": {
      "text/plain": [
       "['models/multinomial_naive_bayes_with_Tfidf_vectorizer.joblib']"
      ]
     },
     "execution_count": 60,
     "metadata": {},
     "output_type": "execute_result"
    }
   ],
   "source": [
    "joblib.dump(cv_nb, \"models/multinomial_naive_bayes_with_Tfidf_vectorizer.joblib\")"
   ]
  },
  {
   "cell_type": "code",
   "execution_count": 63,
   "metadata": {},
   "outputs": [],
   "source": [
    "model_pred = tfidf_nb.predict(X_test)"
   ]
  },
  {
   "cell_type": "code",
   "execution_count": 64,
   "metadata": {},
   "outputs": [
    {
     "name": "stdout",
     "output_type": "stream",
     "text": [
      "              precision    recall  f1-score   support\n",
      "\n",
      "           0       0.85      0.64      0.73       155\n",
      "           1       0.70      0.88      0.78       145\n",
      "\n",
      "    accuracy                           0.76       300\n",
      "   macro avg       0.77      0.76      0.75       300\n",
      "weighted avg       0.78      0.76      0.75       300\n",
      "\n"
     ]
    }
   ],
   "source": [
    "print(classification_report(y_test, model_pred))"
   ]
  },
  {
   "cell_type": "markdown",
   "metadata": {},
   "source": [
    "## Runing cross validation with Tfidf with Multinomial NB"
   ]
  },
  {
   "cell_type": "code",
   "execution_count": 65,
   "metadata": {},
   "outputs": [
    {
     "name": "stdout",
     "output_type": "stream",
     "text": [
      "list of first 10 possible accurancy\n",
      "  1. 0.7667\n",
      "  2. 0.7733\n",
      "  3. 0.8000\n",
      "  4. 0.8255\n",
      "  5. 0.7517\n",
      "\n",
      "Metrics that were obtain from the model:\n",
      " Maximum accuracy: 82.55%\n",
      " Minimum Accuracy: 75.17%\n",
      " Mean_accuracy: 78.34%\n",
      " Std_accuracy: 2.62%\n",
      "[0.7666666666666667, 0.7733333333333333, 0.8, 0.825503355704698, 0.7516778523489933]\n"
     ]
    }
   ],
   "source": [
    "accurancy = []\n",
    "\n",
    "stratifiedKf_predict = StratifiedKFold(n_splits=5, shuffle=True, random_state=100)\n",
    "stratifiedKf_predict.get_n_splits(X,y)\n",
    "\n",
    "for train_index, test_index in stratifiedKf_predict.split(X,y):\n",
    "   \n",
    "    X1_train, X1_test = X.iloc[train_index], X.iloc[test_index]\n",
    "    y1_train, y1_test = y.iloc[train_index], y.iloc[test_index]\n",
    "  \n",
    "    tfidf_nb.fit(X1_train, y1_train)\n",
    "    result = tfidf_nb.score(X1_test, y1_test)\n",
    "    accurancy.append(result)\n",
    "\n",
    "accuracy = np.array(accurancy)\n",
    "\n",
    "# print the ouput\n",
    "print('list of first 10 possible accurancy')\n",
    "for index, acc in enumerate(accuracy[:10]):\n",
    "    print(f\"{index+1:3d}. {acc:.4f}\")\n",
    "\n",
    "    \n",
    "print('\\nMetrics that were obtain from the model:')\n",
    "print(f' Maximum accuracy: {accuracy.max()*100:.2f}%')\n",
    "print(f' Minimum Accuracy: {accuracy.min()*100:.2f}%')\n",
    "print(f' Mean_accuracy: {accuracy.mean()*100:.2f}%')\n",
    "print(f' Std_accuracy: {accuracy.std()*100:.2f}%')\n",
    "\n",
    "print(accurancy)"
   ]
  },
  {
   "cell_type": "code",
   "execution_count": 66,
   "metadata": {},
   "outputs": [],
   "source": [
    "!pip freeze>requirements.txt"
   ]
  },
  {
   "cell_type": "code",
   "execution_count": 67,
   "metadata": {},
   "outputs": [
    {
     "name": "stdout",
     "output_type": "stream",
     "text": [
      "argon2-cffi==20.1.0\n",
      "async-generator==1.10\n",
      "attrs==20.2.0\n",
      "backcall==0.2.0\n",
      "bleach==3.2.1\n",
      "certifi==2020.6.20\n",
      "cffi==1.14.3\n",
      "click==7.1.2\n",
      "colorama==0.4.4\n",
      "cycler==0.10.0\n",
      "decorator==4.4.2\n",
      "defusedxml==0.6.0\n",
      "entrypoints==0.3\n",
      "importlib-metadata==2.0.0\n",
      "ipykernel==5.3.4\n",
      "ipython==7.18.1\n",
      "ipython-genutils==0.2.0\n",
      "ipywidgets==7.5.1\n",
      "jedi==0.17.2\n",
      "Jinja2==2.11.2\n",
      "joblib==0.17.0\n",
      "jsonschema==3.2.0\n",
      "jupyter==1.0.0\n",
      "jupyter-client==6.1.7\n",
      "jupyter-console==6.2.0\n",
      "jupyter-core==4.6.3\n",
      "jupyterlab-pygments==0.1.2\n",
      "kiwisolver==1.2.0\n",
      "MarkupSafe==1.1.1\n",
      "matplotlib==3.3.2\n",
      "mistune==0.8.4\n",
      "nbclient==0.5.1\n",
      "nbconvert==6.0.7\n",
      "nbformat==5.0.8\n",
      "nest-asyncio==1.4.1\n",
      "nltk==3.5\n",
      "notebook==6.1.4\n",
      "numpy==1.19.2\n",
      "packaging==20.4\n",
      "pandas==1.1.3\n",
      "pandocfilters==1.4.2\n",
      "parso==0.7.1\n",
      "pickleshare==0.7.5\n",
      "Pillow==8.0.0\n",
      "prometheus-client==0.8.0\n",
      "prompt-toolkit==3.0.8\n",
      "pycparser==2.20\n",
      "Pygments==2.7.1\n",
      "pyparsing==2.4.7\n",
      "pyrsistent==0.17.3\n",
      "python-dateutil==2.8.1\n",
      "pytz==2020.1\n",
      "pywin32==228\n",
      "pywinpty==0.5.7\n",
      "pyzmq==19.0.2\n",
      "qtconsole==4.7.7\n",
      "QtPy==1.9.0\n",
      "regex==2020.10.15\n",
      "scikit-learn==0.23.2\n",
      "scipy==1.5.3\n",
      "Send2Trash==1.5.0\n",
      "six==1.15.0\n",
      "sklearn==0.0\n",
      "terminado==0.9.1\n",
      "testpath==0.4.4\n",
      "threadpoolctl==2.1.0\n",
      "tornado==6.0.4\n",
      "tqdm==4.50.2\n",
      "traitlets==5.0.5\n",
      "wcwidth==0.2.5\n",
      "webencodings==0.5.1\n",
      "widgetsnbextension==3.5.1\n",
      "zipp==3.3.1\n"
     ]
    }
   ],
   "source": [
    "!pip freeze nltk"
   ]
  },
  {
   "cell_type": "code",
   "execution_count": null,
   "metadata": {},
   "outputs": [],
   "source": []
  }
 ],
 "metadata": {
  "kernelspec": {
   "display_name": "Python 3",
   "language": "python",
   "name": "python3"
  },
  "language_info": {
   "codemirror_mode": {
    "name": "ipython",
    "version": 3
   },
   "file_extension": ".py",
   "mimetype": "text/x-python",
   "name": "python",
   "nbconvert_exporter": "python",
   "pygments_lexer": "ipython3",
   "version": "3.7.2"
  }
 },
 "nbformat": 4,
 "nbformat_minor": 4
}
