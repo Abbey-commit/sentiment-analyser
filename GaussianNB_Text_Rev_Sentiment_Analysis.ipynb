{
 "cells": [
  {
   "cell_type": "markdown",
   "metadata": {},
   "source": [
    "# Autoreload"
   ]
  },
  {
   "cell_type": "code",
   "execution_count": 1,
   "metadata": {},
   "outputs": [],
   "source": [
    "%reload_ext autoreload\n",
    "%autoreload 2"
   ]
  },
  {
   "cell_type": "markdown",
   "metadata": {},
   "source": [
    "# Load libraries and packages"
   ]
  },
  {
   "cell_type": "code",
   "execution_count": 3,
   "metadata": {},
   "outputs": [],
   "source": [
    "import joblib\n",
    "\n",
    "import pandas as pd\n",
    "import numpy as np\n",
    "\n",
    "import matplotlib.pyplot as plt\n",
    "\n",
    "from sklearn.pipeline import Pipeline\n",
    "from sklearn.naive_bayes import GaussianNB\n",
    "from sklearn.model_selection import train_test_split\n",
    "from sklearn.model_selection import StratifiedKFold\n",
    "from sklearn.metrics import classification_report\n",
    "from sklearn.feature_extraction.text import CountVectorizer, TfidfVectorizer"
   ]
  },
  {
   "cell_type": "markdown",
   "metadata": {},
   "source": [
    "# Utility functions"
   ]
  },
  {
   "cell_type": "code",
   "execution_count": 4,
   "metadata": {},
   "outputs": [
    {
     "name": "stderr",
     "output_type": "stream",
     "text": [
      "[nltk_data] Downloading package stopwords to\n",
      "[nltk_data]     C:\\Users\\USER\\AppData\\Roaming\\nltk_data...\n",
      "[nltk_data]   Package stopwords is already up-to-date!\n",
      "[nltk_data] Downloading package wordnet to\n",
      "[nltk_data]     C:\\Users\\USER\\AppData\\Roaming\\nltk_data...\n",
      "[nltk_data]   Package wordnet is already up-to-date!\n"
     ]
    }
   ],
   "source": [
    "from utils import clean_text, DenseTransformer"
   ]
  },
  {
   "cell_type": "markdown",
   "metadata": {},
   "source": [
    "# Import data"
   ]
  },
  {
   "cell_type": "code",
   "execution_count": 7,
   "metadata": {},
   "outputs": [
    {
     "data": {
      "text/html": [
       "<div>\n",
       "<style scoped>\n",
       "    .dataframe tbody tr th:only-of-type {\n",
       "        vertical-align: middle;\n",
       "    }\n",
       "\n",
       "    .dataframe tbody tr th {\n",
       "        vertical-align: top;\n",
       "    }\n",
       "\n",
       "    .dataframe thead th {\n",
       "        text-align: right;\n",
       "    }\n",
       "</style>\n",
       "<table border=\"1\" class=\"dataframe\">\n",
       "  <thead>\n",
       "    <tr style=\"text-align: right;\">\n",
       "      <th></th>\n",
       "      <th>reviews</th>\n",
       "      <th>rating</th>\n",
       "    </tr>\n",
       "  </thead>\n",
       "  <tbody>\n",
       "    <tr>\n",
       "      <th>0</th>\n",
       "      <td>A very, very, very slow-moving, aimless movie ...</td>\n",
       "      <td>0</td>\n",
       "    </tr>\n",
       "    <tr>\n",
       "      <th>1</th>\n",
       "      <td>Not sure who was more lost - the flat characte...</td>\n",
       "      <td>0</td>\n",
       "    </tr>\n",
       "    <tr>\n",
       "      <th>2</th>\n",
       "      <td>Attempting artiness with black &amp; white and cle...</td>\n",
       "      <td>0</td>\n",
       "    </tr>\n",
       "    <tr>\n",
       "      <th>3</th>\n",
       "      <td>Very little music or anything to speak of.</td>\n",
       "      <td>0</td>\n",
       "    </tr>\n",
       "  </tbody>\n",
       "</table>\n",
       "</div>"
      ],
      "text/plain": [
       "                                             reviews  rating\n",
       "0  A very, very, very slow-moving, aimless movie ...       0\n",
       "1  Not sure who was more lost - the flat characte...       0\n",
       "2  Attempting artiness with black & white and cle...       0\n",
       "3       Very little music or anything to speak of.         0"
      ]
     },
     "execution_count": 7,
     "metadata": {},
     "output_type": "execute_result"
    }
   ],
   "source": [
    "\n",
    "dt = pd.read_csv('imdb_labelled.txt', delimiter = '\\t', names=[\"reviews\", \"rating\"])\n",
    "dt.head(4)"
   ]
  },
  {
   "cell_type": "markdown",
   "metadata": {},
   "source": [
    "# Create labels using lambda"
   ]
  },
  {
   "cell_type": "code",
   "execution_count": 8,
   "metadata": {},
   "outputs": [
    {
     "data": {
      "text/html": [
       "<div>\n",
       "<style scoped>\n",
       "    .dataframe tbody tr th:only-of-type {\n",
       "        vertical-align: middle;\n",
       "    }\n",
       "\n",
       "    .dataframe tbody tr th {\n",
       "        vertical-align: top;\n",
       "    }\n",
       "\n",
       "    .dataframe thead th {\n",
       "        text-align: right;\n",
       "    }\n",
       "</style>\n",
       "<table border=\"1\" class=\"dataframe\">\n",
       "  <thead>\n",
       "    <tr style=\"text-align: right;\">\n",
       "      <th></th>\n",
       "      <th>reviews</th>\n",
       "      <th>rating</th>\n",
       "      <th>labels</th>\n",
       "    </tr>\n",
       "  </thead>\n",
       "  <tbody>\n",
       "    <tr>\n",
       "      <th>0</th>\n",
       "      <td>A very, very, very slow-moving, aimless movie ...</td>\n",
       "      <td>0</td>\n",
       "      <td>Negative</td>\n",
       "    </tr>\n",
       "    <tr>\n",
       "      <th>1</th>\n",
       "      <td>Not sure who was more lost - the flat characte...</td>\n",
       "      <td>0</td>\n",
       "      <td>Negative</td>\n",
       "    </tr>\n",
       "    <tr>\n",
       "      <th>2</th>\n",
       "      <td>Attempting artiness with black &amp; white and cle...</td>\n",
       "      <td>0</td>\n",
       "      <td>Negative</td>\n",
       "    </tr>\n",
       "    <tr>\n",
       "      <th>3</th>\n",
       "      <td>Very little music or anything to speak of.</td>\n",
       "      <td>0</td>\n",
       "      <td>Negative</td>\n",
       "    </tr>\n",
       "  </tbody>\n",
       "</table>\n",
       "</div>"
      ],
      "text/plain": [
       "                                             reviews  rating    labels\n",
       "0  A very, very, very slow-moving, aimless movie ...       0  Negative\n",
       "1  Not sure who was more lost - the flat characte...       0  Negative\n",
       "2  Attempting artiness with black & white and cle...       0  Negative\n",
       "3       Very little music or anything to speak of.         0  Negative"
      ]
     },
     "execution_count": 8,
     "metadata": {},
     "output_type": "execute_result"
    }
   ],
   "source": [
    "dt['labels'] = dt[\"rating\"].apply(lambda x: \"Positive\" if x else \"Negative\")\n",
    "dt.head(4)"
   ]
  },
  {
   "cell_type": "code",
   "execution_count": 9,
   "metadata": {},
   "outputs": [
    {
     "data": {
      "text/plain": [
       "reviews    0\n",
       "rating     0\n",
       "dtype: int64"
      ]
     },
     "execution_count": 9,
     "metadata": {},
     "output_type": "execute_result"
    }
   ],
   "source": [
    "dt.isna().sum()\n"
   ]
  },
  {
   "cell_type": "code",
   "execution_count": 52,
   "metadata": {},
   "outputs": [
    {
     "name": "stdout",
     "output_type": "stream",
     "text": [
      "1    386\n",
      "0    362\n",
      "Name: rating, dtype: int64\n",
      "\n"
     ]
    },
    {
     "data": {
      "image/png": "[encoded data removed]",
      "text/plain": [
       "<Figure size 432x288 with 1 Axes>"
      ]
     },
     "metadata": {
      "needs_background": "light"
     },
     "output_type": "display_data"
    }
   ],
   "source": [
    "\n",
    "Index = [1, 0]\n",
    "\n",
    "print(dt[\"rating\"].value_counts())\n",
    "print()\n",
    "\n",
    "barlist = plt.bar(Index, dt[\"rating\"].value_counts())\n",
    "\n",
    "plt.title(\"Frequency of Sentiments\")\n",
    "plt.xticks(Index, ['positive', 'negative'])\n",
    "plt.ylabel('Number of Reviews')\n",
    "plt.xlabel('Sentiment expressed in Reviews')\n",
    "\n",
    "barlist[Index[1]].set_color('green')\n",
    "barlist[Index[0]].set_color('red')\n",
    "plt.show()"
   ]
  },
  {
   "cell_type": "markdown",
   "metadata": {},
   "source": [
    "# Apply clean_text function from module utils"
   ]
  },
  {
   "cell_type": "code",
   "execution_count": 13,
   "metadata": {},
   "outputs": [],
   "source": [
    "dt['clean_review'] = dt['reviews'].apply(clean_text)\n"
   ]
  },
  {
   "cell_type": "code",
   "execution_count": 14,
   "metadata": {},
   "outputs": [
    {
     "data": {
      "text/html": [
       "<div>\n",
       "<style scoped>\n",
       "    .dataframe tbody tr th:only-of-type {\n",
       "        vertical-align: middle;\n",
       "    }\n",
       "\n",
       "    .dataframe tbody tr th {\n",
       "        vertical-align: top;\n",
       "    }\n",
       "\n",
       "    .dataframe thead th {\n",
       "        text-align: right;\n",
       "    }\n",
       "</style>\n",
       "<table border=\"1\" class=\"dataframe\">\n",
       "  <thead>\n",
       "    <tr style=\"text-align: right;\">\n",
       "      <th></th>\n",
       "      <th>reviews</th>\n",
       "      <th>rating</th>\n",
       "      <th>labels</th>\n",
       "      <th>clean_review</th>\n",
       "      <th>length</th>\n",
       "    </tr>\n",
       "  </thead>\n",
       "  <tbody>\n",
       "    <tr>\n",
       "      <th>0</th>\n",
       "      <td>A very, very, very slow-moving, aimless movie ...</td>\n",
       "      <td>0</td>\n",
       "      <td>Negative</td>\n",
       "      <td>a very very very slowmoving aimless movie abou...</td>\n",
       "      <td>15</td>\n",
       "    </tr>\n",
       "    <tr>\n",
       "      <th>1</th>\n",
       "      <td>Not sure who was more lost - the flat characte...</td>\n",
       "      <td>0</td>\n",
       "      <td>Negative</td>\n",
       "      <td>not sure who wa more lost the flat character o...</td>\n",
       "      <td>21</td>\n",
       "    </tr>\n",
       "    <tr>\n",
       "      <th>2</th>\n",
       "      <td>Attempting artiness with black &amp; white and cle...</td>\n",
       "      <td>0</td>\n",
       "      <td>Negative</td>\n",
       "      <td>attempting artiness with black white and cleve...</td>\n",
       "      <td>33</td>\n",
       "    </tr>\n",
       "    <tr>\n",
       "      <th>3</th>\n",
       "      <td>Very little music or anything to speak of.</td>\n",
       "      <td>0</td>\n",
       "      <td>Negative</td>\n",
       "      <td>very little music or anything to speak of</td>\n",
       "      <td>10</td>\n",
       "    </tr>\n",
       "  </tbody>\n",
       "</table>\n",
       "</div>"
      ],
      "text/plain": [
       "                                             reviews  rating    labels  \\\n",
       "0  A very, very, very slow-moving, aimless movie ...       0  Negative   \n",
       "1  Not sure who was more lost - the flat characte...       0  Negative   \n",
       "2  Attempting artiness with black & white and cle...       0  Negative   \n",
       "3       Very little music or anything to speak of.         0  Negative   \n",
       "\n",
       "                                        clean_review  length  \n",
       "0  a very very very slowmoving aimless movie abou...      15  \n",
       "1  not sure who wa more lost the flat character o...      21  \n",
       "2  attempting artiness with black white and cleve...      33  \n",
       "3          very little music or anything to speak of      10  "
      ]
     },
     "execution_count": 14,
     "metadata": {},
     "output_type": "execute_result"
    }
   ],
   "source": [
    "dt['length'] = dt['reviews'].apply(lambda x: len(str(x).split(' ')))\n",
    "dt.head(4)"
   ]
  },
  {
   "cell_type": "markdown",
   "metadata": {},
   "source": [
    "# Check the unique figure of the word document"
   ]
  },
  {
   "cell_type": "code",
   "execution_count": 15,
   "metadata": {},
   "outputs": [
    {
     "data": {
      "text/plain": [
       "array([  15,   21,   33,   10,   23,   22,    5,   17,   12,    8,   13,\n",
       "          6,   18,   25,   19,  868,   14,   16,    9,    7,   26,   35,\n",
       "         11,    4,   27,   28,    3,   20,   37,   24,   36,  201, 1393,\n",
       "         49,   30,  306,   31,   32,   44,   56,   45,   34,   38,   64,\n",
       "         58,   40,   47,   29,   73,   41,   39,   55,   53,   42,  800],\n",
       "      dtype=int64)"
      ]
     },
     "execution_count": 15,
     "metadata": {},
     "output_type": "execute_result"
    }
   ],
   "source": [
    "dt['length'].unique()"
   ]
  },
  {
   "cell_type": "markdown",
   "metadata": {},
   "source": [
    "# Visualisation of the figure"
   ]
  },
  {
   "cell_type": "code",
   "execution_count": 16,
   "metadata": {},
   "outputs": [
    {
     "data": {
      "text/plain": [
       "<BarContainer object of 55 artists>"
      ]
     },
     "execution_count": 16,
     "metadata": {},
     "output_type": "execute_result"
    },
    {
     "data": {
      "image/png": "[encoded data removed]",
      "text/plain": [
       "<Figure size 432x288 with 1 Axes>"
      ]
     },
     "metadata": {
      "needs_background": "light"
     },
     "output_type": "display_data"
    }
   ],
   "source": [
    "\n",
    "unique_lengths = dt['length'].unique()\n",
    "plt.bar(np.arange(len(unique_lengths)), unique_lengths)"
   ]
  },
  {
   "cell_type": "markdown",
   "metadata": {},
   "source": [
    "# Data preprocessing under count_vectorizer treatment under GaussianNB"
   ]
  },
  {
   "cell_type": "code",
   "execution_count": 27,
   "metadata": {},
   "outputs": [
    {
     "data": {
      "text/html": [
       "<div>\n",
       "<style scoped>\n",
       "    .dataframe tbody tr th:only-of-type {\n",
       "        vertical-align: middle;\n",
       "    }\n",
       "\n",
       "    .dataframe tbody tr th {\n",
       "        vertical-align: top;\n",
       "    }\n",
       "\n",
       "    .dataframe thead th {\n",
       "        text-align: right;\n",
       "    }\n",
       "</style>\n",
       "<table border=\"1\" class=\"dataframe\">\n",
       "  <thead>\n",
       "    <tr style=\"text-align: right;\">\n",
       "      <th></th>\n",
       "      <th>010</th>\n",
       "      <th>10</th>\n",
       "      <th>1010</th>\n",
       "      <th>110</th>\n",
       "      <th>12</th>\n",
       "      <th>15</th>\n",
       "      <th>18th</th>\n",
       "      <th>1928</th>\n",
       "      <th>1947</th>\n",
       "      <th>1948</th>\n",
       "      <th>...</th>\n",
       "      <th>younger</th>\n",
       "      <th>youre</th>\n",
       "      <th>youthful</th>\n",
       "      <th>youtube</th>\n",
       "      <th>youve</th>\n",
       "      <th>yun</th>\n",
       "      <th>zillion</th>\n",
       "      <th>zombie</th>\n",
       "      <th>zombiestudents</th>\n",
       "      <th>zombiez</th>\n",
       "    </tr>\n",
       "  </thead>\n",
       "  <tbody>\n",
       "    <tr>\n",
       "      <th>0</th>\n",
       "      <td>0</td>\n",
       "      <td>0</td>\n",
       "      <td>0</td>\n",
       "      <td>0</td>\n",
       "      <td>0</td>\n",
       "      <td>0</td>\n",
       "      <td>0</td>\n",
       "      <td>0</td>\n",
       "      <td>0</td>\n",
       "      <td>0</td>\n",
       "      <td>...</td>\n",
       "      <td>0</td>\n",
       "      <td>0</td>\n",
       "      <td>0</td>\n",
       "      <td>0</td>\n",
       "      <td>0</td>\n",
       "      <td>0</td>\n",
       "      <td>0</td>\n",
       "      <td>0</td>\n",
       "      <td>0</td>\n",
       "      <td>0</td>\n",
       "    </tr>\n",
       "    <tr>\n",
       "      <th>1</th>\n",
       "      <td>0</td>\n",
       "      <td>0</td>\n",
       "      <td>0</td>\n",
       "      <td>0</td>\n",
       "      <td>0</td>\n",
       "      <td>0</td>\n",
       "      <td>0</td>\n",
       "      <td>0</td>\n",
       "      <td>0</td>\n",
       "      <td>0</td>\n",
       "      <td>...</td>\n",
       "      <td>0</td>\n",
       "      <td>0</td>\n",
       "      <td>0</td>\n",
       "      <td>0</td>\n",
       "      <td>0</td>\n",
       "      <td>0</td>\n",
       "      <td>0</td>\n",
       "      <td>0</td>\n",
       "      <td>0</td>\n",
       "      <td>0</td>\n",
       "    </tr>\n",
       "    <tr>\n",
       "      <th>2</th>\n",
       "      <td>0</td>\n",
       "      <td>0</td>\n",
       "      <td>0</td>\n",
       "      <td>0</td>\n",
       "      <td>0</td>\n",
       "      <td>0</td>\n",
       "      <td>0</td>\n",
       "      <td>0</td>\n",
       "      <td>0</td>\n",
       "      <td>0</td>\n",
       "      <td>...</td>\n",
       "      <td>0</td>\n",
       "      <td>0</td>\n",
       "      <td>0</td>\n",
       "      <td>0</td>\n",
       "      <td>0</td>\n",
       "      <td>0</td>\n",
       "      <td>0</td>\n",
       "      <td>0</td>\n",
       "      <td>0</td>\n",
       "      <td>0</td>\n",
       "    </tr>\n",
       "    <tr>\n",
       "      <th>3</th>\n",
       "      <td>0</td>\n",
       "      <td>0</td>\n",
       "      <td>0</td>\n",
       "      <td>0</td>\n",
       "      <td>0</td>\n",
       "      <td>0</td>\n",
       "      <td>0</td>\n",
       "      <td>0</td>\n",
       "      <td>0</td>\n",
       "      <td>0</td>\n",
       "      <td>...</td>\n",
       "      <td>0</td>\n",
       "      <td>0</td>\n",
       "      <td>0</td>\n",
       "      <td>0</td>\n",
       "      <td>0</td>\n",
       "      <td>0</td>\n",
       "      <td>0</td>\n",
       "      <td>0</td>\n",
       "      <td>0</td>\n",
       "      <td>0</td>\n",
       "    </tr>\n",
       "    <tr>\n",
       "      <th>4</th>\n",
       "      <td>0</td>\n",
       "      <td>0</td>\n",
       "      <td>0</td>\n",
       "      <td>0</td>\n",
       "      <td>0</td>\n",
       "      <td>0</td>\n",
       "      <td>0</td>\n",
       "      <td>0</td>\n",
       "      <td>0</td>\n",
       "      <td>0</td>\n",
       "      <td>...</td>\n",
       "      <td>0</td>\n",
       "      <td>0</td>\n",
       "      <td>0</td>\n",
       "      <td>0</td>\n",
       "      <td>0</td>\n",
       "      <td>0</td>\n",
       "      <td>0</td>\n",
       "      <td>0</td>\n",
       "      <td>0</td>\n",
       "      <td>0</td>\n",
       "    </tr>\n",
       "  </tbody>\n",
       "</table>\n",
       "<p>5 rows × 2721 columns</p>\n",
       "</div>"
      ],
      "text/plain": [
       "   010  10  1010  110  12  15  18th  1928  1947  1948  ...  younger  youre  \\\n",
       "0    0   0     0    0   0   0     0     0     0     0  ...        0      0   \n",
       "1    0   0     0    0   0   0     0     0     0     0  ...        0      0   \n",
       "2    0   0     0    0   0   0     0     0     0     0  ...        0      0   \n",
       "3    0   0     0    0   0   0     0     0     0     0  ...        0      0   \n",
       "4    0   0     0    0   0   0     0     0     0     0  ...        0      0   \n",
       "\n",
       "   youthful  youtube  youve  yun  zillion  zombie  zombiestudents  zombiez  \n",
       "0         0        0      0    0        0       0               0        0  \n",
       "1         0        0      0    0        0       0               0        0  \n",
       "2         0        0      0    0        0       0               0        0  \n",
       "3         0        0      0    0        0       0               0        0  \n",
       "4         0        0      0    0        0       0               0        0  \n",
       "\n",
       "[5 rows x 2721 columns]"
      ]
     },
     "execution_count": 27,
     "metadata": {},
     "output_type": "execute_result"
    }
   ],
   "source": [
    "\n",
    "cv_nb = CountVectorizer(stop_words='english')\n",
    "count_data = cv_nb.fit_transform(dt[\"clean_review\"])\n",
    "cv_dataframe = pd.DataFrame(count_data.toarray(), columns=cv_nb.get_feature_names())\n",
    "\n",
    "cv_dataframe.head()"
   ]
  },
  {
   "cell_type": "markdown",
   "metadata": {},
   "source": [
    "# Data preprocessing under tfidf_vectorizer treatment under GaussianNB"
   ]
  },
  {
   "cell_type": "code",
   "execution_count": 29,
   "metadata": {},
   "outputs": [
    {
     "data": {
      "text/html": [
       "<div>\n",
       "<style scoped>\n",
       "    .dataframe tbody tr th:only-of-type {\n",
       "        vertical-align: middle;\n",
       "    }\n",
       "\n",
       "    .dataframe tbody tr th {\n",
       "        vertical-align: top;\n",
       "    }\n",
       "\n",
       "    .dataframe thead th {\n",
       "        text-align: right;\n",
       "    }\n",
       "</style>\n",
       "<table border=\"1\" class=\"dataframe\">\n",
       "  <thead>\n",
       "    <tr style=\"text-align: right;\">\n",
       "      <th></th>\n",
       "      <th>010</th>\n",
       "      <th>10</th>\n",
       "      <th>1010</th>\n",
       "      <th>110</th>\n",
       "      <th>12</th>\n",
       "      <th>15</th>\n",
       "      <th>18th</th>\n",
       "      <th>1928</th>\n",
       "      <th>1947</th>\n",
       "      <th>1948</th>\n",
       "      <th>...</th>\n",
       "      <th>younger</th>\n",
       "      <th>youre</th>\n",
       "      <th>youthful</th>\n",
       "      <th>youtube</th>\n",
       "      <th>youve</th>\n",
       "      <th>yun</th>\n",
       "      <th>zillion</th>\n",
       "      <th>zombie</th>\n",
       "      <th>zombiestudents</th>\n",
       "      <th>zombiez</th>\n",
       "    </tr>\n",
       "  </thead>\n",
       "  <tbody>\n",
       "    <tr>\n",
       "      <th>0</th>\n",
       "      <td>0</td>\n",
       "      <td>0</td>\n",
       "      <td>0</td>\n",
       "      <td>0</td>\n",
       "      <td>0</td>\n",
       "      <td>0</td>\n",
       "      <td>0</td>\n",
       "      <td>0</td>\n",
       "      <td>0</td>\n",
       "      <td>0</td>\n",
       "      <td>...</td>\n",
       "      <td>0</td>\n",
       "      <td>0</td>\n",
       "      <td>0</td>\n",
       "      <td>0</td>\n",
       "      <td>0</td>\n",
       "      <td>0</td>\n",
       "      <td>0</td>\n",
       "      <td>0</td>\n",
       "      <td>0</td>\n",
       "      <td>0</td>\n",
       "    </tr>\n",
       "    <tr>\n",
       "      <th>1</th>\n",
       "      <td>0</td>\n",
       "      <td>0</td>\n",
       "      <td>0</td>\n",
       "      <td>0</td>\n",
       "      <td>0</td>\n",
       "      <td>0</td>\n",
       "      <td>0</td>\n",
       "      <td>0</td>\n",
       "      <td>0</td>\n",
       "      <td>0</td>\n",
       "      <td>...</td>\n",
       "      <td>0</td>\n",
       "      <td>0</td>\n",
       "      <td>0</td>\n",
       "      <td>0</td>\n",
       "      <td>0</td>\n",
       "      <td>0</td>\n",
       "      <td>0</td>\n",
       "      <td>0</td>\n",
       "      <td>0</td>\n",
       "      <td>0</td>\n",
       "    </tr>\n",
       "    <tr>\n",
       "      <th>2</th>\n",
       "      <td>0</td>\n",
       "      <td>0</td>\n",
       "      <td>0</td>\n",
       "      <td>0</td>\n",
       "      <td>0</td>\n",
       "      <td>0</td>\n",
       "      <td>0</td>\n",
       "      <td>0</td>\n",
       "      <td>0</td>\n",
       "      <td>0</td>\n",
       "      <td>...</td>\n",
       "      <td>0</td>\n",
       "      <td>0</td>\n",
       "      <td>0</td>\n",
       "      <td>0</td>\n",
       "      <td>0</td>\n",
       "      <td>0</td>\n",
       "      <td>0</td>\n",
       "      <td>0</td>\n",
       "      <td>0</td>\n",
       "      <td>0</td>\n",
       "    </tr>\n",
       "    <tr>\n",
       "      <th>3</th>\n",
       "      <td>0</td>\n",
       "      <td>0</td>\n",
       "      <td>0</td>\n",
       "      <td>0</td>\n",
       "      <td>0</td>\n",
       "      <td>0</td>\n",
       "      <td>0</td>\n",
       "      <td>0</td>\n",
       "      <td>0</td>\n",
       "      <td>0</td>\n",
       "      <td>...</td>\n",
       "      <td>0</td>\n",
       "      <td>0</td>\n",
       "      <td>0</td>\n",
       "      <td>0</td>\n",
       "      <td>0</td>\n",
       "      <td>0</td>\n",
       "      <td>0</td>\n",
       "      <td>0</td>\n",
       "      <td>0</td>\n",
       "      <td>0</td>\n",
       "    </tr>\n",
       "    <tr>\n",
       "      <th>4</th>\n",
       "      <td>0</td>\n",
       "      <td>0</td>\n",
       "      <td>0</td>\n",
       "      <td>0</td>\n",
       "      <td>0</td>\n",
       "      <td>0</td>\n",
       "      <td>0</td>\n",
       "      <td>0</td>\n",
       "      <td>0</td>\n",
       "      <td>0</td>\n",
       "      <td>...</td>\n",
       "      <td>0</td>\n",
       "      <td>0</td>\n",
       "      <td>0</td>\n",
       "      <td>0</td>\n",
       "      <td>0</td>\n",
       "      <td>0</td>\n",
       "      <td>0</td>\n",
       "      <td>0</td>\n",
       "      <td>0</td>\n",
       "      <td>0</td>\n",
       "    </tr>\n",
       "  </tbody>\n",
       "</table>\n",
       "<p>5 rows × 2721 columns</p>\n",
       "</div>"
      ],
      "text/plain": [
       "   010  10  1010  110  12  15  18th  1928  1947  1948  ...  younger  youre  \\\n",
       "0    0   0     0    0   0   0     0     0     0     0  ...        0      0   \n",
       "1    0   0     0    0   0   0     0     0     0     0  ...        0      0   \n",
       "2    0   0     0    0   0   0     0     0     0     0  ...        0      0   \n",
       "3    0   0     0    0   0   0     0     0     0     0  ...        0      0   \n",
       "4    0   0     0    0   0   0     0     0     0     0  ...        0      0   \n",
       "\n",
       "   youthful  youtube  youve  yun  zillion  zombie  zombiestudents  zombiez  \n",
       "0         0        0      0    0        0       0               0        0  \n",
       "1         0        0      0    0        0       0               0        0  \n",
       "2         0        0      0    0        0       0               0        0  \n",
       "3         0        0      0    0        0       0               0        0  \n",
       "4         0        0      0    0        0       0               0        0  \n",
       "\n",
       "[5 rows x 2721 columns]"
      ]
     },
     "execution_count": 29,
     "metadata": {},
     "output_type": "execute_result"
    }
   ],
   "source": [
    "tfidf_nb = CountVectorizer(stop_words='english')\n",
    "count_data = tfidf_nb.fit_transform(dt[\"clean_review\"])\n",
    "cv_dataframe = pd.DataFrame(count_data.toarray(), columns=tfidf_nb.get_feature_names())\n",
    "\n",
    "cv_dataframe.head()"
   ]
  },
  {
   "cell_type": "code",
   "execution_count": 32,
   "metadata": {},
   "outputs": [],
   "source": [
    "x = dt['reviews']\n",
    "y = dt['rating']\n",
    "x_train, x_test, y_train, y_test = train_test_split(x,y, test_size = .40, random_state = 60)\n"
   ]
  },
  {
   "cell_type": "code",
   "execution_count": 33,
   "metadata": {},
   "outputs": [
    {
     "name": "stdout",
     "output_type": "stream",
     "text": [
      "train shape input:(448,), output:(448,)\n",
      "test shape  input:(300,), output:(300,)\n"
     ]
    }
   ],
   "source": [
    "print(f\"train shape input:{x_train.shape}, output:{y_train.shape}\")\n",
    "print(f\"test shape  input:{x_test.shape}, output:{y_test.shape}\")"
   ]
  },
  {
   "cell_type": "markdown",
   "metadata": {},
   "source": [
    "# Fit our data into the count vectorizer and GaussianNB"
   ]
  },
  {
   "cell_type": "code",
   "execution_count": 34,
   "metadata": {},
   "outputs": [],
   "source": [
    "cv_nb = Pipeline([\n",
    "    ('bow', CountVectorizer(stop_words=\"english\")),\n",
    "    (\"dense\", DenseTransformer()),\n",
    "    ('classifier', GaussianNB())\n",
    "])"
   ]
  },
  {
   "cell_type": "code",
   "execution_count": 35,
   "metadata": {},
   "outputs": [
    {
     "data": {
      "text/plain": [
       "Pipeline(steps=[('bow', CountVectorizer(stop_words='english')),\n",
       "                ('dense', DenseTransformer()), ('classifier', GaussianNB())])"
      ]
     },
     "execution_count": 35,
     "metadata": {},
     "output_type": "execute_result"
    }
   ],
   "source": [
    "cv_nb.fit(x_train, y_train)"
   ]
  },
  {
   "cell_type": "code",
   "execution_count": 37,
   "metadata": {},
   "outputs": [
    {
     "data": {
      "text/plain": [
       "['models/gaussian_naive_bayes_with_count_vectorizer.joblib']"
      ]
     },
     "execution_count": 37,
     "metadata": {},
     "output_type": "execute_result"
    }
   ],
   "source": [
    "joblib.dump(cv_nb, \"models/gaussian_naive_bayes_with_count_vectorizer.joblib\")\n"
   ]
  },
  {
   "cell_type": "markdown",
   "metadata": {},
   "source": [
    "# predict testing data"
   ]
  },
  {
   "cell_type": "code",
   "execution_count": 39,
   "metadata": {},
   "outputs": [
    {
     "name": "stdout",
     "output_type": "stream",
     "text": [
      "              precision    recall  f1-score   support\n",
      "\n",
      "           0       0.68      0.79      0.73       155\n",
      "           1       0.73      0.60      0.66       145\n",
      "\n",
      "    accuracy                           0.70       300\n",
      "   macro avg       0.71      0.70      0.70       300\n",
      "weighted avg       0.70      0.70      0.70       300\n",
      "\n"
     ]
    }
   ],
   "source": [
    "y_pred = cv_nb.predict(x_test) \n",
    "\n",
    "print(classification_report(y_test, y_pred))"
   ]
  },
  {
   "cell_type": "markdown",
   "metadata": {},
   "source": [
    "# Running Cross validation with Countvectorizer and GaussianNB"
   ]
  },
  {
   "cell_type": "code",
   "execution_count": 40,
   "metadata": {},
   "outputs": [
    {
     "name": "stdout",
     "output_type": "stream",
     "text": [
      "List of first 10 possible accuracy:\n",
      "  1. 0.6800\n",
      "  2. 0.6133\n",
      "  3. 0.6667\n",
      "  4. 0.6267\n",
      "  5. 0.6667\n",
      "  6. 0.6133\n",
      "  7. 0.5733\n",
      "  8. 0.6533\n",
      "  9. 0.5541\n",
      " 10. 0.7162\n",
      "\n",
      "Metrics that were obtained from this model:\n",
      " Maximum Accuracy:   71.62%\n",
      " Minimum Accuracy:   55.41%\n",
      " Mean Accuracy:   63.64%\n",
      " Standard Deviation: 0.0472\n"
     ]
    }
   ],
   "source": [
    "accuracy = []\n",
    "\n",
    "skf = StratifiedKFold(n_splits=10, shuffle=True, random_state=100) \n",
    "skf.get_n_splits(X, y) \n",
    "\n",
    "for train_index, test_index in skf.split(X, y):\n",
    "    x_train_fold, x_test_fold = X.iloc[train_index], X.iloc[test_index] \n",
    "    y_train_fold, y_test_fold = y.iloc[train_index], y.iloc[test_index]\n",
    "\n",
    "    cv_nb.fit(x_train_fold, y_train_fold)\n",
    "    result = cv_nb.score(x_test_fold, y_test_fold)\n",
    "    accuracy.append(result)\n",
    "\n",
    "accuracy = np.array(accuracy)\n",
    "\n",
    "# Print the output\n",
    "print('List of first 10 possible accuracy:')\n",
    "for index, acc in enumerate(accuracy[:10]):\n",
    "    print(f\"{index+1:3d}. {acc:.4f}\")\n",
    "\n",
    "print('\\nMetrics that were obtained from this model:')\n",
    "print(f' Maximum Accuracy:   {accuracy.max()*100:.2f}%') \n",
    "print(f' Minimum Accuracy:   {accuracy.min()*100:.2f}%') \n",
    "print(f' Mean Accuracy:   {accuracy.mean()*100:.2f}%') \n",
    "print(f' Standard Deviation: {accuracy.std():.4f}')"
   ]
  },
  {
   "cell_type": "markdown",
   "metadata": {},
   "source": [
    "# Train with TfidfVector and NB"
   ]
  },
  {
   "cell_type": "code",
   "execution_count": 41,
   "metadata": {},
   "outputs": [],
   "source": [
    "tfidf_nb = Pipeline([\n",
    "    ('bow', TfidfVectorizer(stop_words=\"english\")),\n",
    "    (\"dense\", DenseTransformer()),\n",
    "    ('classifier', GaussianNB())\n",
    "])"
   ]
  },
  {
   "cell_type": "code",
   "execution_count": 45,
   "metadata": {},
   "outputs": [
    {
     "data": {
      "text/plain": [
       "Pipeline(steps=[('bow', TfidfVectorizer(stop_words='english')),\n",
       "                ('dense', DenseTransformer()), ('classifier', GaussianNB())])"
      ]
     },
     "execution_count": 45,
     "metadata": {},
     "output_type": "execute_result"
    }
   ],
   "source": [
    "tfidf_nb.fit(x_train, y_train)"
   ]
  },
  {
   "cell_type": "code",
   "execution_count": 46,
   "metadata": {},
   "outputs": [
    {
     "data": {
      "text/plain": [
       "['models/gaussian_naive_bayes_with_tfidf_vectorizer.joblib']"
      ]
     },
     "execution_count": 46,
     "metadata": {},
     "output_type": "execute_result"
    }
   ],
   "source": [
    "joblib.dump(tfidf_nb, \"models/gaussian_naive_bayes_with_tfidf_vectorizer.joblib\")\n"
   ]
  },
  {
   "cell_type": "markdown",
   "metadata": {},
   "source": [
    "# predict testing data"
   ]
  },
  {
   "cell_type": "code",
   "execution_count": 48,
   "metadata": {},
   "outputs": [
    {
     "name": "stdout",
     "output_type": "stream",
     "text": [
      "              precision    recall  f1-score   support\n",
      "\n",
      "           0       0.67      0.72      0.70       155\n",
      "           1       0.68      0.63      0.65       145\n",
      "\n",
      "    accuracy                           0.68       300\n",
      "   macro avg       0.68      0.68      0.68       300\n",
      "weighted avg       0.68      0.68      0.68       300\n",
      "\n"
     ]
    }
   ],
   "source": [
    "model_pred = tfidf_nb.predict(x_test) \n",
    "\n",
    "print(classification_report(y_test, model_pred))"
   ]
  },
  {
   "cell_type": "markdown",
   "metadata": {},
   "source": [
    "# Running Cross validation with TfidfvVectorizer and GaussianNB"
   ]
  },
  {
   "cell_type": "code",
   "execution_count": 49,
   "metadata": {},
   "outputs": [
    {
     "name": "stdout",
     "output_type": "stream",
     "text": [
      "List of first 10 possible accuracy:\n",
      "  1. 0.7467\n",
      "  2. 0.6533\n",
      "  3. 0.6933\n",
      "  4. 0.6800\n",
      "  5. 0.7067\n",
      "  6. 0.6533\n",
      "  7. 0.6267\n",
      "  8. 0.6800\n",
      "  9. 0.6622\n",
      " 10. 0.7703\n",
      "\n",
      "Metrics that were obtained from this model:\n",
      " Maximum Accuracy:   77.03%\n",
      " Minimum Accuracy:   62.67%\n",
      " Mean Accuracy:   68.72%\n",
      " Standard Deviation: 0.0419\n"
     ]
    }
   ],
   "source": [
    "accuracy = []\n",
    "\n",
    "skf = StratifiedKFold(n_splits=10, shuffle=True, random_state=100) \n",
    "skf.get_n_splits(X, y) \n",
    "\n",
    "for train_index, test_index in skf.split(X, y):\n",
    "    x_train_fold, x_test_fold = X.iloc[train_index], X.iloc[test_index] \n",
    "    y_train_fold, y_test_fold = y.iloc[train_index], y.iloc[test_index]\n",
    "\n",
    "    tfidf_nb.fit(x_train_fold, y_train_fold)\n",
    "    result = tfidf_nb.score(x_test_fold, y_test_fold)\n",
    "    accuracy.append(result)\n",
    "\n",
    "accuracy = np.array(accuracy)\n",
    "\n",
    "# Print the output\n",
    "print('List of first 10 possible accuracy:')\n",
    "for index, acc in enumerate(accuracy[:10]):\n",
    "    print(f\"{index+1:3d}. {acc:.4f}\")\n",
    "\n",
    "print('\\nMetrics that were obtained from this model:')\n",
    "print(f' Maximum Accuracy:   {accuracy.max()*100:.2f}%') \n",
    "print(f' Minimum Accuracy:   {accuracy.min()*100:.2f}%') \n",
    "print(f' Mean Accuracy:   {accuracy.mean()*100:.2f}%') \n",
    "print(f' Standard Deviation: {accuracy.std():.4f}')"
   ]
  },
  {
   "cell_type": "code",
   "execution_count": null,
   "metadata": {},
   "outputs": [],
   "source": []
  }
 ],
 "metadata": {
  "kernelspec": {
   "display_name": "Python 3",
   "language": "python",
   "name": "python3"
  },
  "language_info": {
   "codemirror_mode": {
    "name": "ipython",
    "version": 3
   },
   "file_extension": ".py",
   "mimetype": "text/x-python",
   "name": "python",
   "nbconvert_exporter": "python",
   "pygments_lexer": "ipython3",
   "version": "3.7.2"
  }
 },
 "nbformat": 4,
 "nbformat_minor": 4
}
