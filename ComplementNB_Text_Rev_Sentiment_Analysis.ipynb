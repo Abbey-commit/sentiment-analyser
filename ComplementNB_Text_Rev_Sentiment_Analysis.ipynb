{
 "cells": [
  {
   "cell_type": "code",
   "execution_count": 48,
   "metadata": {},
   "outputs": [
    {
     "name": "stdout",
     "output_type": "stream",
     "text": [
      "The autoreload extension is already loaded. To reload it, use:\n",
      "  %reload_ext autoreload\n"
     ]
    }
   ],
   "source": [
    "%load_ext autoreload\n",
    "%autoreload 2"
   ]
  },
  {
   "cell_type": "markdown",
   "metadata": {},
   "source": [
    "# load libraries and packages"
   ]
  },
  {
   "cell_type": "code",
   "execution_count": 49,
   "metadata": {},
   "outputs": [],
   "source": [
    "import joblib\n",
    "\n",
    "import pandas as pd\n",
    "import numpy as np\n",
    "\n",
    "import matplotlib.pyplot as plt\n",
    "\n",
    "from sklearn.pipeline import Pipeline\n",
    "from sklearn.naive_bayes import ComplementNB\n",
    "from sklearn.model_selection import StratifiedKFold\n",
    "from sklearn.model_selection import train_test_split\n",
    "from sklearn.metrics import classification_report\n",
    "\n",
    "from sklearn.feature_extraction.text import TfidfVectorizer, CountVectorizer"
   ]
  },
  {
   "cell_type": "markdown",
   "metadata": {},
   "source": [
    "# Utility function"
   ]
  },
  {
   "cell_type": "code",
   "execution_count": 50,
   "metadata": {},
   "outputs": [],
   "source": [
    "from utils import clean_text, DenseTransformer"
   ]
  },
  {
   "cell_type": "code",
   "execution_count": 51,
   "metadata": {},
   "outputs": [
    {
     "data": {
      "text/html": [
       "<div>\n",
       "<style scoped>\n",
       "    .dataframe tbody tr th:only-of-type {\n",
       "        vertical-align: middle;\n",
       "    }\n",
       "\n",
       "    .dataframe tbody tr th {\n",
       "        vertical-align: top;\n",
       "    }\n",
       "\n",
       "    .dataframe thead th {\n",
       "        text-align: right;\n",
       "    }\n",
       "</style>\n",
       "<table border=\"1\" class=\"dataframe\">\n",
       "  <thead>\n",
       "    <tr style=\"text-align: right;\">\n",
       "      <th></th>\n",
       "      <th>reviews</th>\n",
       "      <th>rating</th>\n",
       "    </tr>\n",
       "  </thead>\n",
       "  <tbody>\n",
       "    <tr>\n",
       "      <th>0</th>\n",
       "      <td>A very, very, very slow-moving, aimless movie ...</td>\n",
       "      <td>0</td>\n",
       "    </tr>\n",
       "    <tr>\n",
       "      <th>1</th>\n",
       "      <td>Not sure who was more lost - the flat characte...</td>\n",
       "      <td>0</td>\n",
       "    </tr>\n",
       "    <tr>\n",
       "      <th>2</th>\n",
       "      <td>Attempting artiness with black &amp; white and cle...</td>\n",
       "      <td>0</td>\n",
       "    </tr>\n",
       "    <tr>\n",
       "      <th>3</th>\n",
       "      <td>Very little music or anything to speak of.</td>\n",
       "      <td>0</td>\n",
       "    </tr>\n",
       "  </tbody>\n",
       "</table>\n",
       "</div>"
      ],
      "text/plain": [
       "                                             reviews  rating\n",
       "0  A very, very, very slow-moving, aimless movie ...       0\n",
       "1  Not sure who was more lost - the flat characte...       0\n",
       "2  Attempting artiness with black & white and cle...       0\n",
       "3       Very little music or anything to speak of.         0"
      ]
     },
     "execution_count": 51,
     "metadata": {},
     "output_type": "execute_result"
    }
   ],
   "source": [
    "dt = pd.read_csv('imdb_labelled.txt', delimiter = '\\t', names=[\"reviews\", \"rating\"])\n",
    "dt.head(4)"
   ]
  },
  {
   "cell_type": "markdown",
   "metadata": {},
   "source": [
    "# Missing values"
   ]
  },
  {
   "cell_type": "code",
   "execution_count": 52,
   "metadata": {},
   "outputs": [
    {
     "data": {
      "text/plain": [
       "reviews    0\n",
       "rating     0\n",
       "dtype: int64"
      ]
     },
     "execution_count": 52,
     "metadata": {},
     "output_type": "execute_result"
    }
   ],
   "source": [
    "dt.isnull().sum()"
   ]
  },
  {
   "cell_type": "markdown",
   "metadata": {},
   "source": [
    "# Labelling creation"
   ]
  },
  {
   "cell_type": "code",
   "execution_count": 53,
   "metadata": {},
   "outputs": [
    {
     "data": {
      "text/html": [
       "<div>\n",
       "<style scoped>\n",
       "    .dataframe tbody tr th:only-of-type {\n",
       "        vertical-align: middle;\n",
       "    }\n",
       "\n",
       "    .dataframe tbody tr th {\n",
       "        vertical-align: top;\n",
       "    }\n",
       "\n",
       "    .dataframe thead th {\n",
       "        text-align: right;\n",
       "    }\n",
       "</style>\n",
       "<table border=\"1\" class=\"dataframe\">\n",
       "  <thead>\n",
       "    <tr style=\"text-align: right;\">\n",
       "      <th></th>\n",
       "      <th>reviews</th>\n",
       "      <th>rating</th>\n",
       "      <th>labels</th>\n",
       "    </tr>\n",
       "  </thead>\n",
       "  <tbody>\n",
       "    <tr>\n",
       "      <th>0</th>\n",
       "      <td>A very, very, very slow-moving, aimless movie ...</td>\n",
       "      <td>0</td>\n",
       "      <td>Negative</td>\n",
       "    </tr>\n",
       "    <tr>\n",
       "      <th>1</th>\n",
       "      <td>Not sure who was more lost - the flat characte...</td>\n",
       "      <td>0</td>\n",
       "      <td>Negative</td>\n",
       "    </tr>\n",
       "    <tr>\n",
       "      <th>2</th>\n",
       "      <td>Attempting artiness with black &amp; white and cle...</td>\n",
       "      <td>0</td>\n",
       "      <td>Negative</td>\n",
       "    </tr>\n",
       "    <tr>\n",
       "      <th>3</th>\n",
       "      <td>Very little music or anything to speak of.</td>\n",
       "      <td>0</td>\n",
       "      <td>Negative</td>\n",
       "    </tr>\n",
       "  </tbody>\n",
       "</table>\n",
       "</div>"
      ],
      "text/plain": [
       "                                             reviews  rating    labels\n",
       "0  A very, very, very slow-moving, aimless movie ...       0  Negative\n",
       "1  Not sure who was more lost - the flat characte...       0  Negative\n",
       "2  Attempting artiness with black & white and cle...       0  Negative\n",
       "3       Very little music or anything to speak of.         0  Negative"
      ]
     },
     "execution_count": 53,
     "metadata": {},
     "output_type": "execute_result"
    }
   ],
   "source": [
    "dt['labels'] = dt[\"rating\"].apply(lambda x: \"Positive\" if x else \"Negative\")\n",
    "dt.head(4)"
   ]
  },
  {
   "cell_type": "markdown",
   "metadata": {},
   "source": [
    "# Label length of words in document"
   ]
  },
  {
   "cell_type": "code",
   "execution_count": 54,
   "metadata": {},
   "outputs": [
    {
     "data": {
      "text/html": [
       "<div>\n",
       "<style scoped>\n",
       "    .dataframe tbody tr th:only-of-type {\n",
       "        vertical-align: middle;\n",
       "    }\n",
       "\n",
       "    .dataframe tbody tr th {\n",
       "        vertical-align: top;\n",
       "    }\n",
       "\n",
       "    .dataframe thead th {\n",
       "        text-align: right;\n",
       "    }\n",
       "</style>\n",
       "<table border=\"1\" class=\"dataframe\">\n",
       "  <thead>\n",
       "    <tr style=\"text-align: right;\">\n",
       "      <th></th>\n",
       "      <th>reviews</th>\n",
       "      <th>rating</th>\n",
       "      <th>labels</th>\n",
       "      <th>length</th>\n",
       "    </tr>\n",
       "  </thead>\n",
       "  <tbody>\n",
       "    <tr>\n",
       "      <th>0</th>\n",
       "      <td>A very, very, very slow-moving, aimless movie ...</td>\n",
       "      <td>0</td>\n",
       "      <td>Negative</td>\n",
       "      <td>15</td>\n",
       "    </tr>\n",
       "    <tr>\n",
       "      <th>1</th>\n",
       "      <td>Not sure who was more lost - the flat characte...</td>\n",
       "      <td>0</td>\n",
       "      <td>Negative</td>\n",
       "      <td>21</td>\n",
       "    </tr>\n",
       "    <tr>\n",
       "      <th>2</th>\n",
       "      <td>Attempting artiness with black &amp; white and cle...</td>\n",
       "      <td>0</td>\n",
       "      <td>Negative</td>\n",
       "      <td>33</td>\n",
       "    </tr>\n",
       "    <tr>\n",
       "      <th>3</th>\n",
       "      <td>Very little music or anything to speak of.</td>\n",
       "      <td>0</td>\n",
       "      <td>Negative</td>\n",
       "      <td>10</td>\n",
       "    </tr>\n",
       "  </tbody>\n",
       "</table>\n",
       "</div>"
      ],
      "text/plain": [
       "                                             reviews  rating    labels  length\n",
       "0  A very, very, very slow-moving, aimless movie ...       0  Negative      15\n",
       "1  Not sure who was more lost - the flat characte...       0  Negative      21\n",
       "2  Attempting artiness with black & white and cle...       0  Negative      33\n",
       "3       Very little music or anything to speak of.         0  Negative      10"
      ]
     },
     "execution_count": 54,
     "metadata": {},
     "output_type": "execute_result"
    }
   ],
   "source": [
    "dt['length'] = dt['reviews'].apply(lambda x: len(str(x).split(' ')))\n",
    "dt.head(4)"
   ]
  },
  {
   "cell_type": "markdown",
   "metadata": {},
   "source": [
    "# Length of words in each document "
   ]
  },
  {
   "cell_type": "code",
   "execution_count": 55,
   "metadata": {},
   "outputs": [
    {
     "data": {
      "text/plain": [
       "array([  15,   21,   33,   10,   23,   22,    5,   17,   12,    8,   13,\n",
       "          6,   18,   25,   19,  868,   14,   16,    9,    7,   26,   35,\n",
       "         11,    4,   27,   28,    3,   20,   37,   24,   36,  201, 1393,\n",
       "         49,   30,  306,   31,   32,   44,   56,   45,   34,   38,   64,\n",
       "         58,   40,   47,   29,   73,   41,   39,   55,   53,   42,  800],\n",
       "      dtype=int64)"
      ]
     },
     "execution_count": 55,
     "metadata": {},
     "output_type": "execute_result"
    }
   ],
   "source": [
    "dt['length'].unique()"
   ]
  },
  {
   "cell_type": "markdown",
   "metadata": {},
   "source": [
    "# Distribution of words in document"
   ]
  },
  {
   "cell_type": "code",
   "execution_count": 56,
   "metadata": {},
   "outputs": [
    {
     "data": {
      "text/plain": [
       "<BarContainer object of 55 artists>"
      ]
     },
     "execution_count": 56,
     "metadata": {},
     "output_type": "execute_result"
    },
    {
     "data": {
      "image/png": "[encoded data removed]",
      "text/plain": [
       "<Figure size 432x288 with 1 Axes>"
      ]
     },
     "metadata": {
      "needs_background": "light"
     },
     "output_type": "display_data"
    }
   ],
   "source": [
    "unique_lengths = dt['length'].unique()\n",
    "plt.bar(np.arange(len(unique_lengths)), unique_lengths)"
   ]
  },
  {
   "cell_type": "code",
   "execution_count": 57,
   "metadata": {},
   "outputs": [
    {
     "name": "stdout",
     "output_type": "stream",
     "text": [
      "Positive    386\n",
      "Negative    362\n",
      "Name: labels, dtype: int64\n"
     ]
    }
   ],
   "source": [
    "print(dt['labels'].value_counts())\n"
   ]
  },
  {
   "cell_type": "markdown",
   "metadata": {},
   "source": [
    "# Apply clean text function"
   ]
  },
  {
   "cell_type": "code",
   "execution_count": 58,
   "metadata": {},
   "outputs": [
    {
     "data": {
      "text/html": [
       "<div>\n",
       "<style scoped>\n",
       "    .dataframe tbody tr th:only-of-type {\n",
       "        vertical-align: middle;\n",
       "    }\n",
       "\n",
       "    .dataframe tbody tr th {\n",
       "        vertical-align: top;\n",
       "    }\n",
       "\n",
       "    .dataframe thead th {\n",
       "        text-align: right;\n",
       "    }\n",
       "</style>\n",
       "<table border=\"1\" class=\"dataframe\">\n",
       "  <thead>\n",
       "    <tr style=\"text-align: right;\">\n",
       "      <th></th>\n",
       "      <th>reviews</th>\n",
       "      <th>rating</th>\n",
       "      <th>labels</th>\n",
       "      <th>length</th>\n",
       "      <th>clean_review</th>\n",
       "    </tr>\n",
       "  </thead>\n",
       "  <tbody>\n",
       "    <tr>\n",
       "      <th>0</th>\n",
       "      <td>A very, very, very slow-moving, aimless movie ...</td>\n",
       "      <td>0</td>\n",
       "      <td>Negative</td>\n",
       "      <td>15</td>\n",
       "      <td>a very very very slowmoving aimless movie abou...</td>\n",
       "    </tr>\n",
       "    <tr>\n",
       "      <th>1</th>\n",
       "      <td>Not sure who was more lost - the flat characte...</td>\n",
       "      <td>0</td>\n",
       "      <td>Negative</td>\n",
       "      <td>21</td>\n",
       "      <td>not sure who wa more lost the flat character o...</td>\n",
       "    </tr>\n",
       "    <tr>\n",
       "      <th>2</th>\n",
       "      <td>Attempting artiness with black &amp; white and cle...</td>\n",
       "      <td>0</td>\n",
       "      <td>Negative</td>\n",
       "      <td>33</td>\n",
       "      <td>attempting artiness with black white and cleve...</td>\n",
       "    </tr>\n",
       "    <tr>\n",
       "      <th>3</th>\n",
       "      <td>Very little music or anything to speak of.</td>\n",
       "      <td>0</td>\n",
       "      <td>Negative</td>\n",
       "      <td>10</td>\n",
       "      <td>very little music or anything to speak of</td>\n",
       "    </tr>\n",
       "    <tr>\n",
       "      <th>4</th>\n",
       "      <td>The best scene in the movie was when Gerardo i...</td>\n",
       "      <td>1</td>\n",
       "      <td>Positive</td>\n",
       "      <td>23</td>\n",
       "      <td>the best scene in the movie wa when gerardo is...</td>\n",
       "    </tr>\n",
       "  </tbody>\n",
       "</table>\n",
       "</div>"
      ],
      "text/plain": [
       "                                             reviews  rating    labels  \\\n",
       "0  A very, very, very slow-moving, aimless movie ...       0  Negative   \n",
       "1  Not sure who was more lost - the flat characte...       0  Negative   \n",
       "2  Attempting artiness with black & white and cle...       0  Negative   \n",
       "3       Very little music or anything to speak of.         0  Negative   \n",
       "4  The best scene in the movie was when Gerardo i...       1  Positive   \n",
       "\n",
       "   length                                       clean_review  \n",
       "0      15  a very very very slowmoving aimless movie abou...  \n",
       "1      21  not sure who wa more lost the flat character o...  \n",
       "2      33  attempting artiness with black white and cleve...  \n",
       "3      10          very little music or anything to speak of  \n",
       "4      23  the best scene in the movie wa when gerardo is...  "
      ]
     },
     "execution_count": 58,
     "metadata": {},
     "output_type": "execute_result"
    }
   ],
   "source": [
    "dt['clean_review'] = movie['reviews'].apply(clean_text)\n",
    "dt.head()"
   ]
  },
  {
   "cell_type": "markdown",
   "metadata": {},
   "source": [
    "# Text Preprocessing"
   ]
  },
  {
   "cell_type": "code",
   "execution_count": 59,
   "metadata": {},
   "outputs": [],
   "source": [
    "X = movie['reviews']\n",
    "y = movie['rating']"
   ]
  },
  {
   "cell_type": "markdown",
   "metadata": {},
   "source": [
    "# Split train and test sets into proportions"
   ]
  },
  {
   "cell_type": "code",
   "execution_count": 60,
   "metadata": {},
   "outputs": [],
   "source": [
    "token, X_test, y_train, y_test = train_test_split(X,y, test_size = .40, random_state = 60)\n"
   ]
  },
  {
   "cell_type": "code",
   "execution_count": 61,
   "metadata": {},
   "outputs": [
    {
     "data": {
      "text/plain": [
       "((448,),\n",
       " ['I am so tired of clichés that is just lazy writing, and here they come in thick and fast.  ',\n",
       "  'Nothing short of magnificent photography/cinematography in this film.  ',\n",
       "  'The acting was bad, the dialogs were extremely shallow and insincere.  ',\n",
       "  \"The soundtrack wasn't terrible, either.  \"])"
      ]
     },
     "execution_count": 61,
     "metadata": {},
     "output_type": "execute_result"
    }
   ],
   "source": [
    "token.shape, token.to_list()[:4]\n"
   ]
  },
  {
   "cell_type": "markdown",
   "metadata": {},
   "source": [
    "# Train data with countVectorizer and Complement NB"
   ]
  },
  {
   "cell_type": "code",
   "execution_count": 62,
   "metadata": {},
   "outputs": [],
   "source": [
    "cv_nb = Pipeline([\n",
    "    ('Bag_of_words', CountVectorizer(stop_words = 'english')), \n",
    "    ('classifier', ComplementNB()),\n",
    "])"
   ]
  },
  {
   "cell_type": "code",
   "execution_count": 63,
   "metadata": {},
   "outputs": [
    {
     "data": {
      "text/plain": [
       "Pipeline(steps=[('Bag_of_words', CountVectorizer(stop_words='english')),\n",
       "                ('classifier', ComplementNB())])"
      ]
     },
     "execution_count": 63,
     "metadata": {},
     "output_type": "execute_result"
    }
   ],
   "source": [
    "cv_nb.fit(token, y_train)\n"
   ]
  },
  {
   "cell_type": "code",
   "execution_count": 64,
   "metadata": {},
   "outputs": [
    {
     "data": {
      "text/plain": [
       "['models/complement_naive_bayes_with count_vectorizer.joblib']"
      ]
     },
     "execution_count": 64,
     "metadata": {},
     "output_type": "execute_result"
    }
   ],
   "source": [
    "joblib.dump(cv_nb, \"models/complement_naive_bayes_with count_vectorizer.joblib\")\n"
   ]
  },
  {
   "cell_type": "code",
   "execution_count": 65,
   "metadata": {},
   "outputs": [],
   "source": [
    "model_pred = cv_nb.predict(X_test)\n"
   ]
  },
  {
   "cell_type": "code",
   "execution_count": 66,
   "metadata": {},
   "outputs": [
    {
     "name": "stdout",
     "output_type": "stream",
     "text": [
      "              precision    recall  f1-score   support\n",
      "\n",
      "           0       0.78      0.71      0.74       155\n",
      "           1       0.72      0.79      0.75       145\n",
      "\n",
      "    accuracy                           0.75       300\n",
      "   macro avg       0.75      0.75      0.75       300\n",
      "weighted avg       0.75      0.75      0.75       300\n",
      "\n"
     ]
    }
   ],
   "source": [
    "print(classification_report(y_test, model_pred))"
   ]
  },
  {
   "cell_type": "markdown",
   "metadata": {},
   "source": [
    "# Train data with tfidf and complementNB"
   ]
  },
  {
   "cell_type": "code",
   "execution_count": 68,
   "metadata": {},
   "outputs": [],
   "source": [
    "tfidf_nb = Pipeline([\n",
    "    ('Bag_of_words', TfidfVectorizer(stop_words = 'english')), \n",
    "    ('classifier', ComplementNB()),\n",
    "])"
   ]
  },
  {
   "cell_type": "code",
   "execution_count": 69,
   "metadata": {},
   "outputs": [
    {
     "data": {
      "text/plain": [
       "Pipeline(steps=[('Bag_of_words', CountVectorizer(stop_words='english')),\n",
       "                ('classifier', ComplementNB())])"
      ]
     },
     "execution_count": 69,
     "metadata": {},
     "output_type": "execute_result"
    }
   ],
   "source": [
    "tfidf_nb.fit(token, y_train)\n"
   ]
  },
  {
   "cell_type": "code",
   "execution_count": 75,
   "metadata": {},
   "outputs": [
    {
     "data": {
      "text/plain": [
       "['models/complement_naive_bayes_with count_vectorizer.joblib']"
      ]
     },
     "execution_count": 75,
     "metadata": {},
     "output_type": "execute_result"
    }
   ],
   "source": [
    "joblib.dump(tfidf_nb, \"models/complement_naive_bayes_with tfidf_vectorizer.joblib\")\n"
   ]
  },
  {
   "cell_type": "code",
   "execution_count": 76,
   "metadata": {},
   "outputs": [],
   "source": [
    "model_pred_tf = tfidf_nb.predict(X_test)\n"
   ]
  },
  {
   "cell_type": "code",
   "execution_count": 77,
   "metadata": {},
   "outputs": [
    {
     "name": "stdout",
     "output_type": "stream",
     "text": [
      "              precision    recall  f1-score   support\n",
      "\n",
      "           0       0.92      0.92      0.92       155\n",
      "           1       0.92      0.92      0.92       145\n",
      "\n",
      "    accuracy                           0.92       300\n",
      "   macro avg       0.92      0.92      0.92       300\n",
      "weighted avg       0.92      0.92      0.92       300\n",
      "\n"
     ]
    }
   ],
   "source": [
    "print(classification_report(y_test, model_pred_tf))"
   ]
  },
  {
   "cell_type": "markdown",
   "metadata": {},
   "source": [
    "# Cross validation for tfidf on the data"
   ]
  },
  {
   "cell_type": "code",
   "execution_count": 72,
   "metadata": {},
   "outputs": [
    {
     "name": "stdout",
     "output_type": "stream",
     "text": [
      "list of first 10 possible accurancy:\n",
      "   1. 0.7800\n",
      "   2. 0.7933\n",
      "   3. 0.7600\n",
      "   4. 0.7517\n",
      "   5. 0.7315\n",
      "\n",
      "Metrics that were obtained from this model:\n",
      " Maximum Accurancy: 79.33%\n",
      " Minimum Accurancy: 73.15%\n",
      " Mean Accurancy: 7.6e+01%\n",
      " Std accurancy: 2.16%\n",
      "[0.78, 0.7933333333333333, 0.76, 0.7516778523489933, 0.7315436241610739]\n",
      "[0.78, 0.7933333333333333, 0.76, 0.7516778523489933, 0.7315436241610739]\n"
     ]
    }
   ],
   "source": [
    "accurancy = []\n",
    "stratifiedKf_predict = StratifiedKFold(n_splits=5, shuffle=True, random_state=100)\n",
    "stratifiedKf_predict.get_n_splits(X,y)\n",
    "\n",
    "for train_index, test_index in stratifiedKf_predict.split(X,y):\n",
    "   \n",
    "    X1_train, X1_test = X.iloc[train_index], X.iloc[test_index]\n",
    "    y1_train, y1_test = y.iloc[train_index], y.iloc[test_index]\n",
    "  \n",
    "    tfidf_nb.fit(X1_train, y1_train)\n",
    "    result = tfidf_nb.score(X1_test, y1_test)\n",
    "    accurancy.append(result)\n",
    "\n",
    "accuracy = np.array(accurancy)\n",
    "\n",
    "#Print the output\n",
    "print('list of first 10 possible accurancy:')\n",
    "\n",
    "for index, acc in enumerate(accuracy[:10]):\n",
    "    print(f' {index+1:3d}. {acc:.4f}')\n",
    "\n",
    "\n",
    "print('\\nMetrics that were obtained from this model:')\n",
    "print(f' Maximum Accurancy: {accuracy.max()*100:.2f}%')\n",
    "print(f' Minimum Accurancy: {accuracy.min()*100:.2f}%')\n",
    "print(f' Mean Accurancy: {accuracy.mean()*100:.2}%')\n",
    "print(f' Std accurancy: {accuracy.std()*100:.2f}%')\n",
    "print(accurancy)\n",
    "\n",
    "print(accurancy)"
   ]
  },
  {
   "cell_type": "markdown",
   "metadata": {},
   "source": [
    "# Cross validation for count_vectorizer on the data"
   ]
  },
  {
   "cell_type": "code",
   "execution_count": 78,
   "metadata": {},
   "outputs": [
    {
     "name": "stdout",
     "output_type": "stream",
     "text": [
      "list of first 10 possible accurancy:\n",
      "   1. 0.7467\n",
      "   2. 0.7867\n",
      "   3. 0.7067\n",
      "   4. 0.7450\n",
      "   5. 0.7383\n",
      "\n",
      "Metrics that were obtained from this model:\n",
      " Maximum Accurancy: 78.67%\n",
      " Minimum Accurancy: 70.67%\n",
      " Mean Accurancy: 7.4e+01%\n",
      " Std accurancy: 2.55%\n",
      "[0.7466666666666667, 0.7866666666666666, 0.7066666666666667, 0.7449664429530202, 0.738255033557047]\n",
      "[0.7466666666666667, 0.7866666666666666, 0.7066666666666667, 0.7449664429530202, 0.738255033557047]\n"
     ]
    }
   ],
   "source": [
    "accurancy = []\n",
    "stratifiedKf_predict = StratifiedKFold(n_splits=5, shuffle=True, random_state=100)\n",
    "stratifiedKf_predict.get_n_splits(X,y)\n",
    "\n",
    "for train_index, test_index in stratifiedKf_predict.split(X,y):\n",
    "   \n",
    "    X1_train, X1_test = X.iloc[train_index], X.iloc[test_index]\n",
    "    y1_train, y1_test = y.iloc[train_index], y.iloc[test_index]\n",
    "  \n",
    "    cv_nb.fit(X1_train, y1_train)\n",
    "    result = cv_nb.score(X1_test, y1_test)\n",
    "    accurancy.append(result)\n",
    "\n",
    "accuracy = np.array(accurancy)\n",
    "\n",
    "#Print the output\n",
    "print('list of first 10 possible accurancy:')\n",
    "\n",
    "for index, acc in enumerate(accuracy[:10]):\n",
    "    print(f' {index+1:3d}. {acc:.4f}')\n",
    "\n",
    "\n",
    "print('\\nMetrics that were obtained from this model:')\n",
    "print(f' Maximum Accurancy: {accuracy.max()*100:.2f}%')\n",
    "print(f' Minimum Accurancy: {accuracy.min()*100:.2f}%')\n",
    "print(f' Mean Accurancy: {accuracy.mean()*100:.2}%')\n",
    "print(f' Std accurancy: {accuracy.std()*100:.2f}%')\n",
    "print(accurancy)\n",
    "\n",
    "print(accurancy)"
   ]
  },
  {
   "cell_type": "code",
   "execution_count": null,
   "metadata": {},
   "outputs": [],
   "source": []
  }
 ],
 "metadata": {
  "kernelspec": {
   "display_name": "Python 3",
   "language": "python",
   "name": "python3"
  },
  "language_info": {
   "codemirror_mode": {
    "name": "ipython",
    "version": 3
   },
   "file_extension": ".py",
   "mimetype": "text/x-python",
   "name": "python",
   "nbconvert_exporter": "python",
   "pygments_lexer": "ipython3",
   "version": "3.7.2"
  }
 },
 "nbformat": 4,
 "nbformat_minor": 4
}
